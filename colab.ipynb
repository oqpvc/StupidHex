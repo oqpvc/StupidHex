{
  "nbformat": 4,
  "nbformat_minor": 0,
  "metadata": {
    "accelerator": "GPU",
    "colab": {
      "name": "colab.ipynb",
      "provenance": [],
      "private_outputs": false
    },
    "kernelspec": {
      "display_name": "Julia 1.5",
      "language": "julia",
      "name": "julia-1.5"
    },
    "language_info": {
      "file_extension": ".jl",
      "mimetype": "application/julia",
      "name": "julia",
      "version": "1.5"
    }
  },
  "cells": [
    {
      "cell_type": "markdown",
      "metadata": {
        "id": "TBHP2m3ZQlQA"
      },
      "source": [
        "Adaption of [this](https://github.com/Dsantra92/Julia-on-Colab)."
      ]
    },
    {
      "cell_type": "code",
      "metadata": {
        "id": "PMGwZ7aFJL8Y"
      },
      "source": [
        "# Installation cell\n",
        "%%shell\n",
        "if ! command -v julia 3>&1 > /dev/null\n",
        "then\n",
        "    wget 'https://julialang-s3.julialang.org/bin/linux/x64/1.5/julia-1.5.2-linux-x86_64.tar.gz' \\\n",
        "        -O /tmp/julia.tar.gz\n",
        "    tar -x -f /tmp/julia.tar.gz -C /usr/local --strip-components 1\n",
        "    rm /tmp/julia.tar.gz\n",
        "fi\n",
        "julia -e 'using Pkg; pkg\"add IJulia; precompile;\"'\n",
        "echo 'Done'"
      ],
      "execution_count": null,
      "outputs": []
    },
    {
      "cell_type": "markdown",
      "metadata": {
        "id": "XdMpcQduyaQc"
      },
      "source": [
        "Select Julia+GPU under **Edit** -> **Notebook settings**.\n",
        "\n",
        "\n"
      ]
    },
    {
      "cell_type": "code",
      "metadata": {
        "id": "iIxu4TjlJnBG"
      },
      "source": [
        "VERSION"
      ],
      "execution_count": null,
      "outputs": []
    },
    {
      "cell_type": "code",
      "metadata": {
        "id": "hGiFZGQlQIxk"
      },
      "source": [
        "using Pkg\n",
        "Pkg.add([\"Crayons\", \"StaticArrays\", \"ArgParse\", \"Glob\"])"
      ],
      "execution_count": null,
      "outputs": []
    },
    {
      "cell_type": "code",
      "metadata": {
        "id": "IP5pYzJKAwOX"
      },
      "source": [
        "] add https://github.com/oqpvc/AlphaZero.jl#Hex"
      ],
      "execution_count": null,
      "outputs": []
    },
    {
      "cell_type": "code",
      "metadata": {
        "id": "8G7_BJDjQAoN"
      },
      "source": [
        "using LinearAlgebra\n",
        "BLAS.set_num_threads(1)\n",
        "\n",
        "using AlphaZero\n",
        "import Distributed\n",
        "ENV[\"GAME\"] = \"hex\"",
        "using Glob",
        "files = glob(\"*/scripts/alphazero.jl\", \"/root/.julia/packages/AlphaZero\")",
        "pop!(ARGS)",
        "include(files[1])"

      ],
      "execution_count": null,
      "outputs": []
    },
    {
      "cell_type": "code",
      "metadata": {
        "id": "mmtqM5f0wD8R"
      },
      "source": [
      ],
      "execution_count": null,
      "outputs": []
    }
  ]
}
